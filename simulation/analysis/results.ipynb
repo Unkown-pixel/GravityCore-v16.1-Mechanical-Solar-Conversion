# results.ipynb

import numpy as np
import matplotlib.pyplot as plt

# Load simulation results
results = np.load('simulation_results.npy', allow_pickle=True)

# Extract data
days = [r['day'] for r in results]
efficiencies = [r['efficiency'] for r in results]
energy_outputs = [r['energy_output'] for r in results]
temperatures = [r['temperature'] for r in results]
solar_irradiance = [r['solar_irradiance'] for r in results]

# Plot results
plt.figure(figsize=(15, 10))

plt.subplot(2, 2, 1)
plt.plot(days, efficiencies)
plt.title('Efficiency Over Time')
plt.xlabel('Day')
plt.ylabel('Efficiency')
plt.grid(True)

plt.subplot(2, 2, 2)
plt.plot(days, energy_outputs)
plt.title('Energy Output Over Time')
plt.xlabel('Day')
plt.ylabel('Energy Output (J)')
plt.grid(True)

plt.subplot(2, 2, 3)
plt.plot(days, temperatures)
plt.title('Temperature Over Time')
plt.xlabel('Day')
plt.ylabel('Temperature (°C)')
plt.grid(True)

plt.subplot(2, 2, 4)
plt.plot(days, solar_irradiance, label='Solar Irradiance')
plt.plot(days, temperatures, label='Temperature')
plt.title('Environmental Conditions Over Time')
plt.xlabel('Day')
plt.ylabel('Value')
plt.legend()
plt.grid(True)

plt.tight_layout()
plt.savefig('gravity_core_results.png', dpi=300, bbox_inches='tight')
plt.show()

# Print summary
print(f"Final Efficiency: {results[-1]['efficiency']:.4f}")
print(f"Final Energy Output: {results[-1]['energy_output']:.4f} J")
print(f"Final Temperature: {results[-1]['temperature']:.2f} °C")
print(f"Final Solar Irradiance: {results[-1]['solar_irradiance']:.2f} W/m²")
