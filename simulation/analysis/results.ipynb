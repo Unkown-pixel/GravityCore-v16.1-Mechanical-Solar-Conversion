# gravity_core_analysis.ipynb
# This is a valid Jupyter Notebook that runs the simulation and generates visualizations

import numpy as np
import matplotlib.pyplot as plt
from gravity_core_simulator import GravityCoreSimulator

# Initialize and run simulation
simulator = GravityCoreSimulator()
results = simulator.run_simulation(days=365)

# Extract data for plotting
days = [r['day'] for r in results]
efficiencies = [r['efficiency'] for r in results]
energy_outputs = [r['energy_output'] for r in results]
temperatures = [r['temperature'] for r in results]
solar_irradiance = [r['solar_irradiance'] for r in results]

# Create plots
plt.figure(figsize=(15, 10))

plt.subplot(2, 2, 1)
plt.plot(days, efficiencies, 'b-')
plt.title('Efficiency Over Time')
plt.xlabel('Day')
plt.ylabel('Efficiency')
plt.grid(True)
plt.ylim(0.5, 0.9)

plt.subplot(2, 2, 2)
plt.plot(days, energy_outputs, 'g-')
plt.title('Energy Output Over Time')
plt.xlabel('Day')
plt.ylabel('Energy Output (J)')
plt.grid(True)

plt.subplot(2, 2, 3)
plt.plot(days, temperatures, 'r-')
plt.title('Temperature Over Time')
plt.xlabel('Day')
plt.ylabel('Temperature (°C)')
plt.grid(True)

plt.subplot(2, 2, 4)
plt.plot(days, solar_irradiance, 'm-', label='Solar Irradiance')
plt.plot(days, temperatures, 'c-', label='Temperature')
plt.title('Environmental Conditions Over Time')
plt.xlabel('Day')
plt.ylabel('Value')
plt.legend()
plt.grid(True)

plt.tight_layout()
plt.savefig('gravity_core_results.png', dpi=300, bbox_inches='tight')
plt.show()

# Print summary
final = results[-1]
print("✅ Simulation Complete (365 days)")
print(f"Final Efficiency: {final['efficiency']:.4f}")
print(f"Final Energy Output: {final['energy_output']:.4f} J")
print(f"Final Temperature: {final['temperature']:.2f} °C")
print(f"Final Solar Irradiance: {final['solar_irradiance']:.2f} W/m²")
print(f"Material Degradation: {simulator.material_degradation_rate * 365:.2%}")
print(f"Thermal Losses: {simulator.thermal_loss_rate * 365:.2%}")
print(f"Temperature Effect: +{simulator.temp_effect * 50:.2f}%")
